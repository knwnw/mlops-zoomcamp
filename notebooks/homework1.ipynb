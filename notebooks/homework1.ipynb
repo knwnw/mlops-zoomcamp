{
 "cells": [
  {
   "cell_type": "code",
   "execution_count": 1,
   "id": "7f87905e-9a86-4f39-8bb2-5202c3ec9c9f",
   "metadata": {},
   "outputs": [],
   "source": [
    "import pandas as pd\n",
    "import seaborn as sns\n",
    "from sklearn.feature_extraction import DictVectorizer\n",
    "from sklearn.linear_model import LinearRegression\n",
    "from sklearn.metrics import mean_squared_error"
   ]
  },
  {
   "cell_type": "code",
   "execution_count": 2,
   "id": "f40c6e34-f3f5-40e5-8aaa-04fce74f49cb",
   "metadata": {},
   "outputs": [],
   "source": [
    "df_train = pd.read_parquet(\"/home/ibra/python-projects/mlops-zoomcamp/data/fhv_tripdata_2021-01.parquet\")\n",
    "df_val = pd.read_parquet(\"/home/ibra/python-projects/mlops-zoomcamp/data/fhv_tripdata_2021-02.parquet\")"
   ]
  },
  {
   "cell_type": "code",
   "execution_count": 3,
   "id": "38950d31-6951-4e68-92d0-d954f71f4499",
   "metadata": {},
   "outputs": [
    {
     "data": {
      "text/plain": [
       "1154112"
      ]
     },
     "execution_count": 3,
     "metadata": {},
     "output_type": "execute_result"
    }
   ],
   "source": [
    "# Q1: How many records are there in January?\n",
    "df_train.shape[0]"
   ]
  },
  {
   "cell_type": "code",
   "execution_count": 4,
   "id": "72c929cf-fecb-4790-b4ac-d7abb47d1f41",
   "metadata": {},
   "outputs": [],
   "source": [
    "df_train[\"duration\"] = df_train.dropOff_datetime - df_train.pickup_datetime\n",
    "df_train.duration = df_train.duration.apply(lambda td: td.total_seconds() / 60)\n",
    "\n",
    "df_val[\"duration\"] = df_val.dropOff_datetime - df_val.pickup_datetime\n",
    "df_val.duration = df_val.duration.apply(lambda td: td.total_seconds() / 60)"
   ]
  },
  {
   "cell_type": "code",
   "execution_count": 5,
   "id": "c0ecb031-6081-451d-8b53-e7e2a1dae1a9",
   "metadata": {},
   "outputs": [
    {
     "data": {
      "text/plain": [
       "19.167224093791006"
      ]
     },
     "execution_count": 5,
     "metadata": {},
     "output_type": "execute_result"
    }
   ],
   "source": [
    "# Q2: What's the average trip duration in January?\n",
    "df_train.duration.mean()"
   ]
  },
  {
   "cell_type": "code",
   "execution_count": 6,
   "id": "d9ea35b0-13e6-4fb3-ae20-76ecce329e86",
   "metadata": {},
   "outputs": [
    {
     "data": {
      "text/plain": [
       "44286"
      ]
     },
     "execution_count": 6,
     "metadata": {},
     "output_type": "execute_result"
    }
   ],
   "source": [
    "# How many records did you drop?\n",
    "df_train.shape[0] - df_train.duration[(df_train.duration >= 1) & (df_train.duration <= 60)].count()"
   ]
  },
  {
   "cell_type": "code",
   "execution_count": 7,
   "id": "75984a1b-b5f4-43fe-9a76-924c6eb87a21",
   "metadata": {},
   "outputs": [],
   "source": [
    "df_train = df_train[(df_train.duration >= 1) & (df_train.duration <= 60)]\n",
    "df_val = df_val[(df_val.duration >= 1) & (df_val.duration <= 60)]"
   ]
  },
  {
   "cell_type": "code",
   "execution_count": 8,
   "id": "2916cecc-a11b-4bcf-ba17-21a315b46394",
   "metadata": {},
   "outputs": [
    {
     "data": {
      "text/plain": [
       "0.8352732770722617"
      ]
     },
     "execution_count": 8,
     "metadata": {},
     "output_type": "execute_result"
    }
   ],
   "source": [
    "# Q3: What's the fraction of missing values for the PUlocationID?\n",
    "df_train.PUlocationID.isna().mean()"
   ]
  },
  {
   "cell_type": "code",
   "execution_count": 9,
   "id": "4b51b577-263f-4857-bac8-6736b0c91a43",
   "metadata": {},
   "outputs": [],
   "source": [
    "df_train.PUlocationID = df_train.PUlocationID.fillna(\"-1\")\n",
    "df_train.DOlocationID = df_train.DOlocationID.fillna(\"-1\")\n",
    "df_val.PUlocationID = df_val.PUlocationID.fillna(\"-1\")\n",
    "df_val.DOlocationID = df_val.DOlocationID.fillna(\"-1\")"
   ]
  },
  {
   "cell_type": "code",
   "execution_count": 10,
   "id": "3953456d-5b29-4e7d-9f21-ff63820446cf",
   "metadata": {},
   "outputs": [],
   "source": [
    "categorical = [\"PUlocationID\", \"DOlocationID\"]\n",
    "\n",
    "df_train[categorical] = df_train[categorical].astype(str)\n",
    "df_val[categorical] = df_val[categorical].astype(str)"
   ]
  },
  {
   "cell_type": "code",
   "execution_count": 11,
   "id": "0e9f4bfe-1304-442d-b4f8-daab21a11da7",
   "metadata": {},
   "outputs": [],
   "source": [
    "dv = DictVectorizer()\n",
    "\n",
    "train_dicts = df_train[categorical].to_dict(orient=\"records\")\n",
    "X_train = dv.fit_transform(train_dicts)\n",
    "\n",
    "val_dicts = df_val[categorical].to_dict(orient=\"records\")\n",
    "X_val = dv.transform(val_dicts)"
   ]
  },
  {
   "cell_type": "code",
   "execution_count": 12,
   "id": "f5b70e7e-8311-458a-a8d0-e729581bab47",
   "metadata": {},
   "outputs": [
    {
     "data": {
      "text/plain": [
       "<1109826x525 sparse matrix of type '<class 'numpy.float64'>'\n",
       "\twith 2219652 stored elements in Compressed Sparse Row format>"
      ]
     },
     "execution_count": 12,
     "metadata": {},
     "output_type": "execute_result"
    }
   ],
   "source": [
    "# Q4: What's the dimensionality of this matrix? (The number of columns)\n",
    "X_train"
   ]
  },
  {
   "cell_type": "code",
   "execution_count": 13,
   "id": "45ee8a0f-b363-4cf2-9cb3-eba7e0bbe300",
   "metadata": {},
   "outputs": [],
   "source": [
    "target = \"duration\"\n",
    "\n",
    "y_train = df_train[target].values\n",
    "y_val = df_val[target].values"
   ]
  },
  {
   "cell_type": "code",
   "execution_count": 14,
   "id": "c2ed78a4-571d-4dcf-88db-f0cb4b4bba2b",
   "metadata": {},
   "outputs": [
    {
     "data": {
      "text/html": [
       "<style>#sk-container-id-1 {color: black;background-color: white;}#sk-container-id-1 pre{padding: 0;}#sk-container-id-1 div.sk-toggleable {background-color: white;}#sk-container-id-1 label.sk-toggleable__label {cursor: pointer;display: block;width: 100%;margin-bottom: 0;padding: 0.3em;box-sizing: border-box;text-align: center;}#sk-container-id-1 label.sk-toggleable__label-arrow:before {content: \"▸\";float: left;margin-right: 0.25em;color: #696969;}#sk-container-id-1 label.sk-toggleable__label-arrow:hover:before {color: black;}#sk-container-id-1 div.sk-estimator:hover label.sk-toggleable__label-arrow:before {color: black;}#sk-container-id-1 div.sk-toggleable__content {max-height: 0;max-width: 0;overflow: hidden;text-align: left;background-color: #f0f8ff;}#sk-container-id-1 div.sk-toggleable__content pre {margin: 0.2em;color: black;border-radius: 0.25em;background-color: #f0f8ff;}#sk-container-id-1 input.sk-toggleable__control:checked~div.sk-toggleable__content {max-height: 200px;max-width: 100%;overflow: auto;}#sk-container-id-1 input.sk-toggleable__control:checked~label.sk-toggleable__label-arrow:before {content: \"▾\";}#sk-container-id-1 div.sk-estimator input.sk-toggleable__control:checked~label.sk-toggleable__label {background-color: #d4ebff;}#sk-container-id-1 div.sk-label input.sk-toggleable__control:checked~label.sk-toggleable__label {background-color: #d4ebff;}#sk-container-id-1 input.sk-hidden--visually {border: 0;clip: rect(1px 1px 1px 1px);clip: rect(1px, 1px, 1px, 1px);height: 1px;margin: -1px;overflow: hidden;padding: 0;position: absolute;width: 1px;}#sk-container-id-1 div.sk-estimator {font-family: monospace;background-color: #f0f8ff;border: 1px dotted black;border-radius: 0.25em;box-sizing: border-box;margin-bottom: 0.5em;}#sk-container-id-1 div.sk-estimator:hover {background-color: #d4ebff;}#sk-container-id-1 div.sk-parallel-item::after {content: \"\";width: 100%;border-bottom: 1px solid gray;flex-grow: 1;}#sk-container-id-1 div.sk-label:hover label.sk-toggleable__label {background-color: #d4ebff;}#sk-container-id-1 div.sk-serial::before {content: \"\";position: absolute;border-left: 1px solid gray;box-sizing: border-box;top: 0;bottom: 0;left: 50%;z-index: 0;}#sk-container-id-1 div.sk-serial {display: flex;flex-direction: column;align-items: center;background-color: white;padding-right: 0.2em;padding-left: 0.2em;position: relative;}#sk-container-id-1 div.sk-item {position: relative;z-index: 1;}#sk-container-id-1 div.sk-parallel {display: flex;align-items: stretch;justify-content: center;background-color: white;position: relative;}#sk-container-id-1 div.sk-item::before, #sk-container-id-1 div.sk-parallel-item::before {content: \"\";position: absolute;border-left: 1px solid gray;box-sizing: border-box;top: 0;bottom: 0;left: 50%;z-index: -1;}#sk-container-id-1 div.sk-parallel-item {display: flex;flex-direction: column;z-index: 1;position: relative;background-color: white;}#sk-container-id-1 div.sk-parallel-item:first-child::after {align-self: flex-end;width: 50%;}#sk-container-id-1 div.sk-parallel-item:last-child::after {align-self: flex-start;width: 50%;}#sk-container-id-1 div.sk-parallel-item:only-child::after {width: 0;}#sk-container-id-1 div.sk-dashed-wrapped {border: 1px dashed gray;margin: 0 0.4em 0.5em 0.4em;box-sizing: border-box;padding-bottom: 0.4em;background-color: white;}#sk-container-id-1 div.sk-label label {font-family: monospace;font-weight: bold;display: inline-block;line-height: 1.2em;}#sk-container-id-1 div.sk-label-container {text-align: center;}#sk-container-id-1 div.sk-container {/* jupyter's `normalize.less` sets `[hidden] { display: none; }` but bootstrap.min.css set `[hidden] { display: none !important; }` so we also need the `!important` here to be able to override the default hidden behavior on the sphinx rendered scikit-learn.org. See: https://github.com/scikit-learn/scikit-learn/issues/21755 */display: inline-block !important;position: relative;}#sk-container-id-1 div.sk-text-repr-fallback {display: none;}</style><div id=\"sk-container-id-1\" class=\"sk-top-container\"><div class=\"sk-text-repr-fallback\"><pre>LinearRegression()</pre><b>In a Jupyter environment, please rerun this cell to show the HTML representation or trust the notebook. <br />On GitHub, the HTML representation is unable to render, please try loading this page with nbviewer.org.</b></div><div class=\"sk-container\" hidden><div class=\"sk-item\"><div class=\"sk-estimator sk-toggleable\"><input class=\"sk-toggleable__control sk-hidden--visually\" id=\"sk-estimator-id-1\" type=\"checkbox\" checked><label for=\"sk-estimator-id-1\" class=\"sk-toggleable__label sk-toggleable__label-arrow\">LinearRegression</label><div class=\"sk-toggleable__content\"><pre>LinearRegression()</pre></div></div></div></div></div>"
      ],
      "text/plain": [
       "LinearRegression()"
      ]
     },
     "execution_count": 14,
     "metadata": {},
     "output_type": "execute_result"
    }
   ],
   "source": [
    "lr = LinearRegression()\n",
    "lr.fit(X_train, y_train)"
   ]
  },
  {
   "cell_type": "code",
   "execution_count": 15,
   "id": "76783bec-c37c-42d2-9cd5-da3862e78974",
   "metadata": {},
   "outputs": [
    {
     "data": {
      "text/plain": [
       "10.52851938944385"
      ]
     },
     "execution_count": 15,
     "metadata": {},
     "output_type": "execute_result"
    }
   ],
   "source": [
    "y_pred = lr.predict(X_train)\n",
    "\n",
    "# Q5: What's the RMSE on train?\n",
    "mean_squared_error(y_train, y_pred, squared=False)"
   ]
  },
  {
   "cell_type": "code",
   "execution_count": 16,
   "id": "ded9beea-cc58-46d2-ba5d-b6e086dee1db",
   "metadata": {},
   "outputs": [
    {
     "data": {
      "text/plain": [
       "11.014286426107942"
      ]
     },
     "execution_count": 16,
     "metadata": {},
     "output_type": "execute_result"
    }
   ],
   "source": [
    "y_pred = lr.predict(X_val)\n",
    "\n",
    "# Q6: What's the RMSE on validation?\n",
    "mean_squared_error(y_val, y_pred, squared=False)"
   ]
  },
  {
   "cell_type": "code",
   "execution_count": null,
   "id": "d7bc041c-c6ef-4470-99b7-191856d5c14f",
   "metadata": {},
   "outputs": [],
   "source": []
  }
 ],
 "metadata": {
  "kernelspec": {
   "display_name": "Python 3 (ipykernel)",
   "language": "python",
   "name": "python3"
  },
  "language_info": {
   "codemirror_mode": {
    "name": "ipython",
    "version": 3
   },
   "file_extension": ".py",
   "mimetype": "text/x-python",
   "name": "python",
   "nbconvert_exporter": "python",
   "pygments_lexer": "ipython3",
   "version": "3.9.5"
  }
 },
 "nbformat": 4,
 "nbformat_minor": 5
}
