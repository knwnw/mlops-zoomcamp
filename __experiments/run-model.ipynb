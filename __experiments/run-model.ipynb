{
 "cells": [
  {
   "cell_type": "code",
   "execution_count": 1,
   "id": "d595e3f8-ee4f-42b0-b60e-33d8b2f487b7",
   "metadata": {},
   "outputs": [],
   "source": [
    "import mlflow"
   ]
  },
  {
   "cell_type": "code",
   "execution_count": 3,
   "id": "1473ceb1-0105-4c13-8794-f35d23ef9fff",
   "metadata": {},
   "outputs": [
    {
     "name": "stdout",
     "output_type": "stream",
     "text": [
      "mlflow.pyfunc.loaded_model:\n",
      "  artifact_path: models_mlflow\n",
      "  flavor: mlflow.xgboost\n",
      "  run_id: 6812afb078964d178098da65249cd83e\n",
      "\n",
      "<xgboost.core.Booster object at 0x7f811078f730>\n"
     ]
    }
   ],
   "source": [
    "# works\n",
    "MLRUNS_DIR = \"/home/ibra/python-projects/mlops-zoomcamp/mlruns/\"\n",
    "\n",
    "logged_model = MLRUNS_DIR + \"1/6812afb078964d178098da65249cd83e/artifacts/models_mlflow\"\n",
    "loaded_model = mlflow.pyfunc.load_model(logged_model)\n",
    "print(loaded_model)\n",
    "\n",
    "xgboost_model = mlflow.xgboost.load_model(logged_model)\n",
    "print(xgboost_model)"
   ]
  },
  {
   "cell_type": "code",
   "execution_count": null,
   "id": "055522c4-917b-407a-80a8-9ebcd61a1792",
   "metadata": {},
   "outputs": [],
   "source": []
  }
 ],
 "metadata": {
  "kernelspec": {
   "display_name": "Python 3 (ipykernel)",
   "language": "python",
   "name": "python3"
  },
  "language_info": {
   "codemirror_mode": {
    "name": "ipython",
    "version": 3
   },
   "file_extension": ".py",
   "mimetype": "text/x-python",
   "name": "python",
   "nbconvert_exporter": "python",
   "pygments_lexer": "ipython3",
   "version": "3.9.5"
  }
 },
 "nbformat": 4,
 "nbformat_minor": 5
}
